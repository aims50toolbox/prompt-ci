{
 "cells": [
  {
   "cell_type": "code",
   "execution_count": 2,
   "metadata": {},
   "outputs": [],
   "source": [
    "import sys\n",
    "sys.path.insert(0, 'aitoolbox_aims_lib/src')"
   ]
  },
  {
   "cell_type": "code",
   "execution_count": 3,
   "metadata": {},
   "outputs": [],
   "source": [
    "import aitoolbox.context as aictx\n",
    "\n",
    "context = aictx.Context.get()\n",
    "sources = context.get_sources()\n",
    "sources.set(\"prompt\",\"What is the meaning of life?\")"
   ]
  },
  {
   "cell_type": "markdown",
   "metadata": {},
   "source": [
    "# Setup"
   ]
  },
  {
   "cell_type": "code",
   "execution_count": 6,
   "metadata": {},
   "outputs": [],
   "source": [
    "from pymilvus import connections, db, Collection\n",
    "connections.connect(\n",
    "  alias=\"default\",\n",
    "  user='',\n",
    "  password='',\n",
    "  host='localhost',\n",
    "  port='19530'\n",
    ")\n",
    "\n",
    "db.using_database(\"embeddings\")\n",
    "chunks = Collection(\"chunks\")"
   ]
  },
  {
   "cell_type": "code",
   "execution_count": 7,
   "metadata": {},
   "outputs": [],
   "source": [
    "chunks.load()"
   ]
  },
  {
   "cell_type": "code",
   "execution_count": 8,
   "metadata": {},
   "outputs": [
    {
     "name": "stderr",
     "output_type": "stream",
     "text": [
      "/storage/projects/AIMS5.0/stuff/vector/.venv/lib/python3.8/site-packages/tqdm/auto.py:21: TqdmWarning: IProgress not found. Please update jupyter and ipywidgets. See https://ipywidgets.readthedocs.io/en/stable/user_install.html\n",
      "  from .autonotebook import tqdm as notebook_tqdm\n",
      "/storage/projects/AIMS5.0/stuff/vector/.venv/lib/python3.8/site-packages/torch/cuda/__init__.py:138: UserWarning: CUDA initialization: The NVIDIA driver on your system is too old (found version 11040). Please update your GPU driver by downloading and installing a new version from the URL: http://www.nvidia.com/Download/index.aspx Alternatively, go to: https://pytorch.org to install a PyTorch version that has been compiled with your version of the CUDA driver. (Triggered internally at ../c10/cuda/CUDAFunctions.cpp:108.)\n",
      "  return torch._C._cuda_getDeviceCount() > 0\n"
     ]
    }
   ],
   "source": [
    "from sentence_transformers import SentenceTransformer\n",
    "embed_model = SentenceTransformer('sentence-transformers/all-MiniLM-L6-v2')"
   ]
  },
  {
   "cell_type": "markdown",
   "metadata": {},
   "source": [
    "# Service"
   ]
  },
  {
   "cell_type": "code",
   "execution_count": 9,
   "metadata": {},
   "outputs": [
    {
     "name": "stdout",
     "output_type": "stream",
     "text": [
      "What is the meaning of life?\n"
     ]
    }
   ],
   "source": [
    "PROMPT=aictx.Context.get().get_sources().get(\"prompt\")\n",
    "print(PROMPT)"
   ]
  },
  {
   "cell_type": "code",
   "execution_count": 10,
   "metadata": {},
   "outputs": [
    {
     "name": "stdout",
     "output_type": "stream",
     "text": [
      "[-5.87179027e-02  9.47447047e-02 -6.24467582e-02  2.27122158e-02\n",
      " -5.04852012e-02  3.73861170e-03  9.86932144e-02 -1.58774480e-02\n",
      "  9.85546038e-02  4.24058875e-03  3.72457206e-02 -6.09366931e-02\n",
      " -1.62903164e-02 -8.01996142e-03 -4.41915914e-03 -3.71029265e-02\n",
      " -7.82160088e-02 -3.40451561e-02 -2.46130675e-03 -2.09166221e-02\n",
      "  4.27382365e-02  1.12933088e-02 -3.76934446e-02  5.37125580e-02\n",
      " -9.86241326e-02  1.11397736e-01 -5.80954459e-03  2.37018000e-02\n",
      " -2.12566709e-04  2.24462915e-02  2.84537934e-02  5.35257608e-02\n",
      "  8.44105408e-02 -2.42556892e-02  2.13827975e-02  3.50872464e-02\n",
      "  9.51658413e-02 -3.46690416e-02  2.08120737e-02  1.82110481e-02\n",
      " -3.94743755e-02 -2.47602146e-02 -5.44179697e-03 -3.15221469e-03\n",
      "  2.88050063e-02 -2.16721045e-03  2.70437915e-02 -7.51373768e-02\n",
      "  1.38010114e-01  2.03170776e-02 -6.43111020e-02  2.92909984e-02\n",
      " -4.81939092e-02 -1.33580454e-02  8.95498767e-02  1.82852857e-02\n",
      "  2.34580529e-03 -2.02486757e-02  6.59064204e-02 -1.29188057e-02\n",
      " -1.80610886e-03 -5.28694056e-02  8.33064020e-02  1.33928165e-01\n",
      "  3.21134403e-02 -8.85819197e-02  4.81791459e-02 -9.81801748e-03\n",
      " -2.96106618e-02 -3.85474861e-02 -6.19800165e-02  2.61407774e-02\n",
      " -3.96903381e-02  1.11957984e-02 -2.13024300e-02 -3.46099474e-02\n",
      "  5.30449394e-03 -3.80170941e-02 -4.17310409e-02  3.54764052e-02\n",
      "  7.40931109e-02 -1.03165954e-03 -5.09670638e-02  7.46703148e-02\n",
      " -4.35225740e-02 -2.32230462e-02  7.88150504e-02  3.18916775e-02\n",
      "  7.16533279e-04  1.18239345e-02 -1.15907505e-01 -1.80329848e-02\n",
      " -1.94791909e-02  2.00311281e-02 -8.17286074e-02  6.01838641e-02\n",
      "  1.75437061e-04 -2.50351746e-02  1.68545283e-02  5.00781685e-02\n",
      "  1.67650972e-02 -2.51413248e-02 -1.51743116e-02 -8.69247224e-03\n",
      "  5.00922240e-02 -3.82920243e-02 -4.29575443e-02  1.07425146e-01\n",
      " -1.38662825e-03  7.30282534e-03 -5.69903031e-02 -1.75494533e-02\n",
      "  2.32793223e-02 -8.36182944e-03  4.22812477e-02  6.18010983e-02\n",
      "  1.87673271e-02 -4.44798218e-03  2.09969413e-02  4.38249530e-03\n",
      " -2.55100597e-02  1.06300469e-02  6.04162104e-02 -2.04144400e-02\n",
      " -6.61583543e-02 -6.40765876e-02 -9.44469310e-03 -9.41167266e-33\n",
      " -4.43190057e-03 -8.13495219e-02  8.89104903e-02  1.66068822e-02\n",
      " -6.15370199e-02  2.45698951e-02  5.47780609e-03 -2.33365241e-02\n",
      "  2.80433130e-02  1.70406681e-02 -4.02174033e-02 -9.75285936e-03\n",
      "  3.58922035e-02 -3.17419544e-02  3.03163193e-02  5.36726490e-02\n",
      " -1.67880669e-01 -5.17791044e-03  2.11412441e-02  5.90387508e-02\n",
      " -3.36186849e-02 -8.97678174e-03 -4.36591096e-02 -2.00798754e-02\n",
      "  9.11245961e-03 -1.40748145e-02 -2.11381409e-02 -9.59103629e-02\n",
      "  1.28643252e-02 -3.90793122e-02  2.96155270e-02  9.22760814e-02\n",
      " -4.36929949e-02  2.82000713e-02 -2.56658401e-02 -3.39934640e-02\n",
      " -5.03602028e-02 -1.29682636e-02 -6.57348186e-02 -5.79969771e-02\n",
      " -3.65597159e-02  2.57252995e-02  3.17462794e-02  4.40389616e-03\n",
      " -1.07905164e-03  7.37023503e-02  5.35620116e-02  1.51457563e-02\n",
      " -2.70270202e-02 -2.49598399e-02 -1.33647323e-02 -6.09347597e-02\n",
      "  5.76319695e-02  1.02109816e-02 -5.02884798e-02  2.56340578e-02\n",
      " -3.21104676e-02  1.99148455e-03 -3.77888232e-02 -1.04198316e-02\n",
      "  9.26471967e-03 -6.52034432e-02  8.94291401e-02  7.47341663e-02\n",
      "  7.98474848e-02 -1.69173554e-02 -4.87908442e-03 -5.96017353e-02\n",
      "  8.05319399e-02 -4.01005149e-02 -8.00356641e-03 -6.33078068e-02\n",
      "  2.61577163e-02 -4.99758590e-03 -2.34528957e-03  5.67237884e-02\n",
      "  2.11807434e-02 -8.07902813e-02 -7.92464986e-02  7.18596578e-02\n",
      " -3.07105202e-03 -4.03058454e-02 -2.37092953e-02 -1.42145734e-02\n",
      "  1.15992904e-01 -1.50770729e-03 -3.12933587e-02 -1.11425221e-01\n",
      " -1.74511205e-02  1.82172507e-02 -4.81899269e-02  7.78887980e-03\n",
      "  1.59380678e-02 -6.17334582e-02 -6.14662915e-02  5.77087609e-33\n",
      " -4.27604711e-04 -5.20470552e-02 -7.67946094e-02  1.32228089e-02\n",
      "  4.50185426e-02 -7.08728097e-03 -4.97392304e-02  7.15850592e-02\n",
      " -6.70353975e-03  7.55159110e-02 -3.93134635e-03  9.09857510e-04\n",
      "  1.20384619e-02  4.34506834e-02 -1.21854655e-02 -2.03251606e-03\n",
      "  5.05388938e-02  1.77331697e-02  3.78247499e-02 -7.05371797e-02\n",
      " -5.03250733e-02  4.82806638e-02 -1.36814639e-01 -8.14495906e-02\n",
      "  1.80537179e-02  1.14820406e-01  2.73007900e-04 -3.66276205e-02\n",
      " -3.74079905e-02  1.91695280e-02  1.97903458e-02 -8.73116124e-03\n",
      " -7.94062093e-02  5.24697229e-02  6.24375977e-03  3.18901464e-02\n",
      "  1.22606598e-01  5.61704375e-02 -2.49373466e-02 -2.42222706e-03\n",
      " -7.44094700e-02  2.28218790e-02 -1.53366178e-02  5.84525280e-02\n",
      " -1.96420662e-02 -1.15532605e-02  6.07223511e-02 -3.36214062e-03\n",
      "  6.81825506e-04  2.04361882e-03  4.23313230e-02 -1.19484169e-02\n",
      " -4.83013137e-04 -2.48101112e-02  7.52351135e-02 -7.85896927e-02\n",
      " -7.97821581e-02 -4.35186923e-02  8.30426589e-02 -1.62252765e-02\n",
      "  1.21674933e-01  6.61501512e-02 -2.30007190e-02  1.11251272e-01\n",
      " -2.45228093e-02  8.98584500e-02 -7.36228796e-03  3.35749611e-02\n",
      " -9.04746354e-02 -9.58791375e-02 -6.72290241e-03 -1.13646016e-01\n",
      " -3.95166352e-02 -1.76353883e-02 -2.87297033e-02  6.11214824e-02\n",
      "  3.37240510e-02 -7.70680979e-02 -3.95280728e-03  8.66666716e-03\n",
      " -9.28658396e-02 -1.12584889e-01  3.75915058e-02  4.49774880e-03\n",
      " -2.59313714e-02 -1.09023802e-01 -4.95784879e-02  5.96858524e-02\n",
      "  1.17723346e-01 -1.20699396e-02  1.65825132e-02  4.31867801e-02\n",
      " -9.83330756e-02 -2.75594555e-03 -1.02609970e-01 -1.65396603e-08\n",
      "  4.39534858e-02  7.23610371e-02 -5.16623035e-02  5.06296270e-02\n",
      "  2.10986547e-02  7.36985356e-02  1.27154589e-01 -3.73688079e-02\n",
      " -4.25114483e-02  2.44835820e-02  7.44903088e-03 -3.06069385e-03\n",
      " -4.48358469e-02  9.83112305e-02  4.32232209e-02 -9.38382186e-03\n",
      " -2.24512629e-03  1.51096433e-02 -1.03235738e-02  6.68210983e-02\n",
      "  3.42239663e-02 -6.99504539e-02 -5.87556027e-02 -2.96006147e-02\n",
      " -4.79855277e-02 -6.17286228e-02  8.23143274e-02  7.02952892e-02\n",
      "  4.47127409e-02 -2.06547510e-02 -1.06750298e-02  5.56834377e-02\n",
      " -2.31147092e-02  6.08999506e-02 -7.52425268e-02 -7.05570132e-02\n",
      " -6.52850866e-02 -3.42745855e-02  2.72009661e-03  2.34253351e-02\n",
      " -8.79837573e-03  8.84855837e-02 -3.10856309e-02 -1.22472271e-02\n",
      "  4.94856909e-02  6.86718570e-03  3.96840237e-02  2.73802653e-02\n",
      " -4.87618558e-02 -5.42457774e-03 -3.48025709e-02  4.78625558e-02\n",
      "  5.57152815e-02  9.34084121e-04  2.96341889e-02 -1.25024971e-02\n",
      " -2.31660735e-02  2.82772649e-02  1.33769745e-02 -7.10434606e-03\n",
      "  7.48566315e-02 -2.04728842e-02  6.14390001e-02 -7.36028142e-03]\n"
     ]
    }
   ],
   "source": [
    "embedding = embed_model.encode(PROMPT)\n",
    "print(embedding)"
   ]
  },
  {
   "cell_type": "code",
   "execution_count": 11,
   "metadata": {},
   "outputs": [],
   "source": [
    "search_params = {\n",
    "    \"metric_type\": \"COSINE\",\n",
    "    \"limit\": 5,\n",
    "    \"params\": {\"nprobe\": 10},\n",
    "}\n",
    "\n",
    "try:\n",
    "    result = chunks.search([list(embedding)], \"chunk_embedding\", search_params, limit=3, output_fields=[\"chunk\"])\n",
    "except Exception as e:\n",
    "    print(e)"
   ]
  },
  {
   "cell_type": "code",
   "execution_count": 12,
   "metadata": {},
   "outputs": [
    {
     "data": {
      "text/plain": [
       "[0.4927063584327698, 0.4474804103374481, 0.4237510859966278]"
      ]
     },
     "execution_count": 12,
     "metadata": {},
     "output_type": "execute_result"
    }
   ],
   "source": [
    "result[0].distances"
   ]
  },
  {
   "cell_type": "code",
   "execution_count": 13,
   "metadata": {},
   "outputs": [
    {
     "name": "stdout",
     "output_type": "stream",
     "text": [
      "\"Never again,\" cried the man, \"never again will we wake up in the morning  and  think Who am I? What is my purpose in life? Does it really, cosmically speaking, matter if I don't get up and  go  to work?  For today we will finally learn once and for all the plain and simple answer to all these nagging little problems  of  Life, the Universe and Everything!\"\n",
      "Many many millions of years ago a race of  hyperintelligent  pan- dimensional  beings  (whose  physical  manifestation in their own pan-dimensional universe is not dissimilar to our own) got so fed up  with  the  constant bickering about the meaning of life which used to interrupt  their  favourite  pastime  of  Brockian  Ultra Cricket  (a  curious  game which involved suddenly hitting people for no readily apparent reason and then running away)  that  they decided to sit down and solve their\n",
      "\"Yes but ...\"\n",
      "\n",
      "\"But nothing! Think about it. The Meaning of  Life!  We  get  our fingers  on  that  we  can  hold every shrink in the Galaxy up to ransom, and that's worth a bundle. I owe mine a mint.\"\n",
      "\n",
      "Arthur took a deep breath without much enthusiasm.\n",
      "\n",
      "\"Alright,\" he said, \"but where do we start? How  should  I  know? They  say  the Ultimate Answer or whatever is Forty-two, how am I supposed to know what the question is? It could  be  anything.  I mean, what's six times seven?\"\n"
     ]
    }
   ],
   "source": [
    "query = \"\\n\".join([ hit.entity.get('chunk') for hit in result[0]])\n",
    "print(query)"
   ]
  },
  {
   "cell_type": "code",
   "execution_count": 5,
   "metadata": {},
   "outputs": [
    {
     "ename": "NameError",
     "evalue": "name 'query' is not defined",
     "output_type": "error",
     "traceback": [
      "\u001b[0;31m---------------------------------------------------------------------------\u001b[0m",
      "\u001b[0;31mNameError\u001b[0m                                 Traceback (most recent call last)",
      "Cell \u001b[0;32mIn[5], line 1\u001b[0m\n\u001b[0;32m----> 1\u001b[0m aictx\u001b[38;5;241m.\u001b[39mContext\u001b[38;5;241m.\u001b[39mget()\u001b[38;5;241m.\u001b[39mget_destinations()\u001b[38;5;241m.\u001b[39mset(\u001b[38;5;124m\"\u001b[39m\u001b[38;5;124mresp\u001b[39m\u001b[38;5;124m\"\u001b[39m,\u001b[43mquery\u001b[49m)\n",
      "\u001b[0;31mNameError\u001b[0m: name 'query' is not defined"
     ]
    }
   ],
   "source": [
    "aictx.Context.get().get_destinations().set(\"resp\",[ hit.entity.get('chunk') for hit in result[0]])"
   ]
  },
  {
   "cell_type": "code",
   "execution_count": null,
   "metadata": {},
   "outputs": [],
   "source": []
  }
 ],
 "metadata": {
  "kernelspec": {
   "display_name": "embed.venv",
   "language": "python",
   "name": "python3"
  },
  "language_info": {
   "codemirror_mode": {
    "name": "ipython",
    "version": 3
   },
   "file_extension": ".py",
   "mimetype": "text/x-python",
   "name": "python",
   "nbconvert_exporter": "python",
   "pygments_lexer": "ipython3",
   "version": "3.8.10"
  },
  "orig_nbformat": 4
 },
 "nbformat": 4,
 "nbformat_minor": 2
}
