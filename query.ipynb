{
 "cells": [
  {
   "cell_type": "markdown",
   "metadata": {},
   "source": [
    "# Preamble"
   ]
  },
  {
   "cell_type": "code",
   "execution_count": null,
   "metadata": {},
   "outputs": [],
   "source": [
    "!pip3 install git+https://github.com/aims50toolbox/aitoolbox.git"
   ]
  },
  {
   "cell_type": "code",
   "execution_count": 2,
   "metadata": {},
   "outputs": [],
   "source": [
    "import aitoolbox.context as aictx\n",
    "\n",
    "context = aictx.Context.get()\n",
    "sources = context.get_sources()\n",
    "sources.set(\"prompt\",\"What is the ultimate answer?\")\n",
    "\n",
    "context.set_env(\"MILVUS_HOST\", \"localhost\")\n",
    "context.set_env(\"MILVUS_PORT\", \"19530\")"
   ]
  },
  {
   "cell_type": "markdown",
   "metadata": {},
   "source": [
    "# Setup"
   ]
  },
  {
   "cell_type": "code",
   "execution_count": 3,
   "metadata": {},
   "outputs": [],
   "source": [
    "from pymilvus import connections, db, Collection\n",
    "connections.connect(\n",
    "  alias=\"default\",\n",
    "  user='',\n",
    "  password='',\n",
    "  host=context.get_env(\"MILVUS_HOST\"),\n",
    "  port=context.get_env(\"MILVUS_PORT\")\n",
    ")\n",
    "\n",
    "db.using_database(\"embeddings\")\n",
    "chunks = Collection(\"chunks\")"
   ]
  },
  {
   "cell_type": "code",
   "execution_count": 4,
   "metadata": {},
   "outputs": [],
   "source": [
    "chunks.load()"
   ]
  },
  {
   "cell_type": "code",
   "execution_count": 5,
   "metadata": {},
   "outputs": [
    {
     "name": "stderr",
     "output_type": "stream",
     "text": [
      "/storage/projects/AIMS5.0/stuff/tools/.venv/lib/python3.8/site-packages/tqdm/auto.py:21: TqdmWarning: IProgress not found. Please update jupyter and ipywidgets. See https://ipywidgets.readthedocs.io/en/stable/user_install.html\n",
      "  from .autonotebook import tqdm as notebook_tqdm\n",
      "/storage/projects/AIMS5.0/stuff/tools/.venv/lib/python3.8/site-packages/torch/cuda/__init__.py:138: UserWarning: CUDA initialization: The NVIDIA driver on your system is too old (found version 11040). Please update your GPU driver by downloading and installing a new version from the URL: http://www.nvidia.com/Download/index.aspx Alternatively, go to: https://pytorch.org to install a PyTorch version that has been compiled with your version of the CUDA driver. (Triggered internally at ../c10/cuda/CUDAFunctions.cpp:108.)\n",
      "  return torch._C._cuda_getDeviceCount() > 0\n"
     ]
    }
   ],
   "source": [
    "from sentence_transformers import SentenceTransformer\n",
    "embed_model = SentenceTransformer('sentence-transformers/all-MiniLM-L6-v2')"
   ]
  },
  {
   "cell_type": "markdown",
   "metadata": {},
   "source": [
    "# Service"
   ]
  },
  {
   "cell_type": "code",
   "execution_count": 7,
   "metadata": {},
   "outputs": [
    {
     "name": "stdout",
     "output_type": "stream",
     "text": [
      "What is the ultimate answer?\n"
     ]
    }
   ],
   "source": [
    "PROMPT=aictx.Context.get().get_sources().get(\"prompt\")\n",
    "print(PROMPT)"
   ]
  },
  {
   "cell_type": "code",
   "execution_count": 8,
   "metadata": {},
   "outputs": [],
   "source": [
    "embedding = embed_model.encode(PROMPT)"
   ]
  },
  {
   "cell_type": "code",
   "execution_count": 9,
   "metadata": {},
   "outputs": [],
   "source": [
    "search_params = {\n",
    "    \"metric_type\": \"COSINE\",\n",
    "    \"limit\": 5,\n",
    "    \"params\": {\"nprobe\": 10},\n",
    "}\n",
    "\n",
    "try:\n",
    "    result = chunks.search([list(embedding)], \"chunk_embedding\", search_params, limit=3, output_fields=[\"chunk\"])\n",
    "except Exception as e:\n",
    "    print(e)"
   ]
  },
  {
   "cell_type": "code",
   "execution_count": 10,
   "metadata": {},
   "outputs": [
    {
     "data": {
      "text/plain": [
       "[0.5891436338424683, 0.46394670009613037, 0.4566752314567566]"
      ]
     },
     "execution_count": 10,
     "metadata": {},
     "output_type": "execute_result"
    }
   ],
   "source": [
    "result[0].distances"
   ]
  },
  {
   "cell_type": "code",
   "execution_count": 11,
   "metadata": {},
   "outputs": [
    {
     "name": "stdout",
     "output_type": "stream",
     "text": [
      "\"That's a pity,\" said Arthur. \"I'd like to hear what  he  had  to say.  Presumably  he would know what the Ultimate Question to the Ultimate Answer is. It's always bothered me that we  never  found out.\"\n",
      "\n",
      "\"Think of a number,\" said the computer, \" any number.\"\n",
      "For seven and a half million years,  Deep  Thought  computed  and calculated,  and in the end announced that the answer was in fact Forty-two - and so another, even bigger, computer had to be built to find out what the actual question was.\n",
      "\"The Universe!\" said Lunkwill.\n",
      "\n",
      "\"Everything!\" they said in chorus.\n",
      "\n",
      "Deep Thought paused for a moment's reflection.\n",
      "\n",
      "\"Tricky,\" he said finally.\n",
      "\n",
      "\"But can you do it?\"\n",
      "\n",
      "Again, a significant pause.\n",
      "\n",
      "\"Yes,\" said Deep Thought, \"I can do it.\"\n",
      "\n",
      "\"There is an answer?\" said Fook with breathless excitement.\"\n",
      "\n",
      "\"A simple answer?\" added Lunkwill.\n",
      "\n",
      "\"Yes,\" said Deep Thought. \"Life, the  Universe,  and  Everything. There  is  an  answer.  But,\" he added, \"I'll have to think about it.\"\n"
     ]
    }
   ],
   "source": [
    "query = \"\\n\".join([ hit.entity.get('chunk') for hit in result[0]])\n",
    "print(query)"
   ]
  },
  {
   "cell_type": "code",
   "execution_count": 12,
   "metadata": {},
   "outputs": [],
   "source": [
    "aictx.Context.get().get_destinations().set(\"resp\",[ hit.entity.get('chunk') for hit in result[0]])"
   ]
  },
  {
   "cell_type": "code",
   "execution_count": null,
   "metadata": {},
   "outputs": [],
   "source": []
  }
 ],
 "metadata": {
  "kernelspec": {
   "display_name": "embed.venv",
   "language": "python",
   "name": "python3"
  },
  "language_info": {
   "codemirror_mode": {
    "name": "ipython",
    "version": 3
   },
   "file_extension": ".py",
   "mimetype": "text/x-python",
   "name": "python",
   "nbconvert_exporter": "python",
   "pygments_lexer": "ipython3",
   "version": "3.12.7"
  },
  "orig_nbformat": 4
 },
 "nbformat": 4,
 "nbformat_minor": 2
}
